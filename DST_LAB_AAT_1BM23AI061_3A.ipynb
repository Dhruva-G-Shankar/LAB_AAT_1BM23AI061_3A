{
  "nbformat": 4,
  "nbformat_minor": 0,
  "metadata": {
    "colab": {
      "provenance": [],
      "authorship_tag": "ABX9TyMFD/rpURsZZgrrThaFEwxJ",
      "include_colab_link": true
    },
    "kernelspec": {
      "name": "python3",
      "display_name": "Python 3"
    },
    "language_info": {
      "name": "python"
    }
  },
  "cells": [
    {
      "cell_type": "markdown",
      "metadata": {
        "id": "view-in-github",
        "colab_type": "text"
      },
      "source": [
        "<a href=\"https://colab.research.google.com/github/Dhruva-G-Shankar/LAB_AAT_1BM23AI061_3A/blob/main/DST_LAB_AAT_1BM23AI061_3A.ipynb\" target=\"_parent\"><img src=\"https://colab.research.google.com/assets/colab-badge.svg\" alt=\"Open In Colab\"/></a>"
      ]
    },
    {
      "cell_type": "code",
      "execution_count": null,
      "metadata": {
        "id": "X5bPO2_z0aR6"
      },
      "outputs": [],
      "source": [
        "print(\"Name: Dhruva G Shankar\")\n",
        "print(\"USN: 1BM23AI061\")\n",
        "print(\"Section: 3A\")"
      ]
    },
    {
      "cell_type": "code",
      "source": [
        "#1-Balanced Bracket\n",
        "import math\n",
        "import os\n",
        "import random\n",
        "import re\n",
        "import sys\n",
        "\n",
        "#\n",
        "# Complete the 'isBalanced' function below.\n",
        "#\n",
        "# The function is expected to return a STRING.\n",
        "# The function accepts STRING s as parameter.\n",
        "#\n",
        "\n",
        "def isBalanced(s):\n",
        "    stack = []\n",
        "    brackets_list = {')': '(', '}': '{', ']': '['}\n",
        "\n",
        "    for char in s:\n",
        "        if char in brackets_list.values():\n",
        "            stack.append(char)\n",
        "        elif char in brackets_list:\n",
        "            if not stack or stack[-1] != brackets_list[char]:\n",
        "                return \"NO\"\n",
        "            stack.pop()\n",
        "\n",
        "    return \"YES\" if not stack else \"NO\"\n",
        "\n",
        "if __name__ == '__main__':\n",
        "    fptr = open(os.environ['OUTPUT_PATH'], 'w')\n",
        "\n",
        "    t = int(input().strip())\n",
        "\n",
        "    for t_itr in range(t):\n",
        "        s = input()\n",
        "\n",
        "        result = isBalanced(s)\n",
        "\n",
        "        fptr.write(result + '\\n')\n",
        "\n",
        "    fptr.close()\n"
      ],
      "metadata": {
        "id": "bPwQfXvX01qO"
      },
      "execution_count": null,
      "outputs": []
    },
    {
      "cell_type": "code",
      "source": [
        "#2-Queue using 2 stack\n",
        "# Enter your code here. Read input from STDIN. Print output to STDOUT\n",
        "class QueueUsingTwoStacks:\n",
        "    def __init__(self):\n",
        "        self.stack1 = []\n",
        "        self.stack2 = []\n",
        "    def enqueue(self, x):\n",
        "        self.stack1.append(x)\n",
        "\n",
        "    def dequeue(self):\n",
        "        self._move_stack1_to_stack2()\n",
        "        if self.stack2:\n",
        "            self.stack2.pop()\n",
        "\n",
        "    def front(self):\n",
        "        self._move_stack1_to_stack2()\n",
        "        if self.stack2:\n",
        "            print(self.stack2[-1])\n",
        "\n",
        "    def _move_stack1_to_stack2(self):\n",
        "\n",
        "        if not self.stack2:\n",
        "            while self.stack1:\n",
        "                self.stack2.append(self.stack1.pop())\n",
        "\n",
        "\n",
        "if __name__ == \"__main__\":\n",
        "    q = int(input().strip())\n",
        "    queue = QueueUsingTwoStacks()\n",
        "\n",
        "    for _ in range(q):\n",
        "        query = input().strip().split()\n",
        "        if query[0] == \"1\":\n",
        "            queue.enqueue(int(query[1]))\n",
        "        elif query[0] == \"2\":\n",
        "            queue.dequeue()\n",
        "        elif query[0] == \"3\":\n",
        "            queue.front()\n"
      ],
      "metadata": {
        "id": "3luyMqJY1OAQ"
      },
      "execution_count": null,
      "outputs": []
    },
    {
      "cell_type": "code",
      "source": [
        "#3-Game of two stacks\n",
        "\n",
        "#!/bin/python3\n",
        "\n",
        "import math\n",
        "import os\n",
        "import random\n",
        "import re\n",
        "import sys\n",
        "\n",
        "#\n",
        "# Complete the 'twoStacks' function below.\n",
        "#\n",
        "# The function is expected to return an INTEGER.\n",
        "# The function accepts following parameters:\n",
        "#  1. INTEGER maxSum\n",
        "#  2. INTEGER_ARRAY a\n",
        "#  3. INTEGER_ARRAY b\n",
        "#\n",
        "\n",
        "def twoStacks(maxSum, a, b):\n",
        "\n",
        "    current_sum = 0\n",
        "    total_count = 0\n",
        "    i = 0\n",
        "    j = 0\n",
        "\n",
        "\n",
        "    while i < len(a) and current_sum + a[i] <= maxSum:\n",
        "        current_sum += a[i]\n",
        "        i += 1\n",
        "        total_count += 1\n",
        "\n",
        "\n",
        "    max_count = total_count\n",
        "\n",
        "\n",
        "    while j < len(b) and current_sum + b[j] <= maxSum:\n",
        "        current_sum += b[j]\n",
        "        j += 1\n",
        "        total_count += 1\n",
        "\n",
        "\n",
        "        while current_sum > maxSum and i > 0:\n",
        "            i -= 1\n",
        "            current_sum -= a[i]\n",
        "            total_count -= 1\n",
        "\n",
        "\n",
        "        max_count = max(max_count, total_count)\n",
        "\n",
        "    return max_count\n",
        "\n",
        "if __name__ == '__main__':\n",
        "    fptr = open(os.environ['OUTPUT_PATH'], 'w')\n",
        "\n",
        "    g = int(input().strip())\n",
        "\n",
        "    for g_itr in range(g):\n",
        "        first_multiple_input = input().rstrip().split()\n",
        "\n",
        "        n = int(first_multiple_input[0])\n",
        "\n",
        "        m = int(first_multiple_input[1])\n",
        "\n",
        "        maxSum = int(first_multiple_input[2])\n",
        "\n",
        "        a = list(map(int, input().rstrip().split()))\n",
        "\n",
        "        b = list(map(int, input().rstrip().split()))\n",
        "\n",
        "        result = twoStacks(maxSum, a, b)\n",
        "\n",
        "        fptr.write(str(result) + '\\n')\n",
        "\n",
        "    fptr.close()\n"
      ],
      "metadata": {
        "id": "XG5IYSdr1wnp"
      },
      "execution_count": null,
      "outputs": []
    },
    {
      "cell_type": "code",
      "source": [],
      "metadata": {
        "id": "d-KiO2Uq3HGq"
      },
      "execution_count": null,
      "outputs": []
    }
  ]
}